{
 "cells": [
  {
   "cell_type": "code",
   "execution_count": 1,
   "metadata": {},
   "outputs": [],
   "source": [
    "import pandas as pd\n",
    "import requests\n",
    "import pdfplumber\n",
    "import re\n",
    "import numpy as np\n",
    "# import gspread\n",
    "import csv\n",
    "import time\n",
    "from datetime import datetime\n",
    "import warnings\n",
    "warnings.filterwarnings(\"ignore\")\n",
    "import matplotlib.pyplot as plt\n"
   ]
  },
  {
   "cell_type": "markdown",
   "metadata": {},
   "source": [
    "# Import your pdf"
   ]
  },
  {
   "cell_type": "markdown",
   "metadata": {},
   "source": [
    "This is my own path, you'd need to specifiy your personal path"
   ]
  },
  {
   "cell_type": "code",
   "execution_count": 2,
   "metadata": {},
   "outputs": [],
   "source": [
    "### windows version\n",
    "# pdf = pdfplumber.open(r\"C:\\Users\\james\\Dropbox\\bosStatementExtraction_ghp\\jpy_statement1.pdf\")\n",
    "\n",
    "### mac version\n",
    "pdf = pdfplumber.open(\"/Users/james.koh/Dropbox/current projects/youtrip statement extraction/sample_youtrip_transactions.pdf\")\n",
    "page = pdf.pages[1]"
   ]
  },
  {
   "cell_type": "markdown",
   "metadata": {},
   "source": [
    "# Find the raw bottom coordinates for fields of interest and hard code them as explicit\n",
    "##### Since the \"auto\" detection of the horizontal rows are delinated by purple backgrounds that are inconsistent, we need to manually find bottom coordinates of each row to plot lines explicitly"
   ]
  },
  {
   "cell_type": "code",
   "execution_count": 3,
   "metadata": {},
   "outputs": [],
   "source": [
    "### your regex\n",
    "end_of_row = [page.search(r'¥\\d{1,3}(?:,\\d{3})*')]\n",
    "first_line_after_header = [page.search(r'\\bBalance\\b')]\n",
    "# end_of_row_2 = [page.search(r'$|\\d')]\n",
    "\n",
    "### (optional) crop the page using the top and bottom coordinates\n",
    "# cropped_page = page.crop((451.59, 306.83000000000004, 482.15999999999997, 316.83000000000004))\n",
    "# im = cropped_page.to_image()\n",
    "# im"
   ]
  },
  {
   "cell_type": "code",
   "execution_count": 6,
   "metadata": {},
   "outputs": [
    {
     "data": {
      "image/png": "[encoded data removed]",
      "text/plain": [
       "<pdfplumber.display.PageImage at 0x15816d1c0>"
      ]
     },
     "execution_count": 6,
     "metadata": {},
     "output_type": "execute_result"
    }
   ],
   "source": [
    "### quick override of the above declaration of \"page\" for ez debugging\n",
    "### this sample only extracts one page at a time. You may choose to put this block in a loop to extract multiple pages.\n",
    "page = pdf.pages[0]\n",
    "\n",
    "row_bottom_coordinates_list = []\n",
    "\n",
    "### we use the final jpy value at the end of each row of the \"balance\" column as some type of explicit delineation for horizonal line\n",
    "end_of_row = [page.search(r'¥\\d{1,3}(?:,\\d{3})*')]\n",
    "\n",
    "for i in range(50):\n",
    "    \n",
    "    try:\n",
    "        # fix the issue of regex picking up values from \"smartexchange\" transactions and creating unneccesary lines\n",
    "        # this 556.96 is the end of right hand column\n",
    "        if end_of_row[0][i]['x1'] == 556.96:\n",
    "            # print(end_of_row_1[0][i]['text']) # for testing\n",
    "            row_bottom_coordinates = end_of_row[0][i]['bottom']\n",
    "            row_bottom_coordinates_list.append(row_bottom_coordinates)\n",
    "\n",
    "    except IndexError:\n",
    "        \n",
    "        break\n",
    "\n",
    "### remove duplicated fields due to same regex identified values occuring more than once in a \"row\"\n",
    "row_bottom_coordinates_list = list(dict.fromkeys(row_bottom_coordinates_list))\n",
    "\n",
    "### insert a horizontal line after the header, specifically after the word \"Balance\"\n",
    "row_bottom_coordinates_list.insert(0,first_line_after_header[0][0]['bottom'])\n",
    "\n",
    "im = page.to_image()\n",
    "\n",
    "im.reset().debug_tablefinder({\n",
    "    \"vertical_strategy\": \"explicit\", \n",
    "    \"horizontal_strategy\": \"explicit\",\n",
    "    \"explicit_horizontal_lines\": row_bottom_coordinates_list,\n",
    "    \"explicit_vertical_lines\": [ 30, 140, 330, 410, 485,560],\n",
    "})"
   ]
  },
  {
   "cell_type": "markdown",
   "metadata": {},
   "source": [
    "As you can see from the above, it's not a perfect solution. Some transaction descriptions are cut off halfway due to the statement's inconsistent spacing. Nevertheless, the key details - such as the date, balance, money in, money out and little bits of the description are still good enough."
   ]
  },
  {
   "cell_type": "code",
   "execution_count": 7,
   "metadata": {},
   "outputs": [],
   "source": [
    "all_transactions = []\n",
    "\n",
    "page_transactions = page.extract_table({\n",
    "    \"vertical_strategy\": \"explicit\", \n",
    "    \"horizontal_strategy\": \"explicit\",\n",
    "    \"explicit_horizontal_lines\": row_bottom_coordinates_list,\n",
    "    \"explicit_vertical_lines\": [ 30, 140, 330, 410, 485,560],\n",
    "})\n",
    "\n",
    "for row in page_transactions:\n",
    "    all_transactions.append(row)"
   ]
  },
  {
   "cell_type": "markdown",
   "metadata": {},
   "source": [
    "# Fit the data into a dataframe"
   ]
  },
  {
   "cell_type": "code",
   "execution_count": 8,
   "metadata": {},
   "outputs": [
    {
     "data": {
      "text/html": [
       "<div>\n",
       "<style scoped>\n",
       "    .dataframe tbody tr th:only-of-type {\n",
       "        vertical-align: middle;\n",
       "    }\n",
       "\n",
       "    .dataframe tbody tr th {\n",
       "        vertical-align: top;\n",
       "    }\n",
       "\n",
       "    .dataframe thead th {\n",
       "        text-align: right;\n",
       "    }\n",
       "</style>\n",
       "<table border=\"1\" class=\"dataframe\">\n",
       "  <thead>\n",
       "    <tr style=\"text-align: right;\">\n",
       "      <th></th>\n",
       "      <th>date</th>\n",
       "      <th>description</th>\n",
       "      <th>money out</th>\n",
       "      <th>money in</th>\n",
       "      <th>balance</th>\n",
       "    </tr>\n",
       "  </thead>\n",
       "  <tbody>\n",
       "    <tr>\n",
       "      <th>0</th>\n",
       "      <td>(in SGT)\\n30 Mar 2024</td>\n",
       "      <td>MICHINOEKI ASAGIRI KOG,SHIZUOKA</td>\n",
       "      <td>¥660</td>\n",
       "      <td></td>\n",
       "      <td>¥20,362</td>\n",
       "    </tr>\n",
       "    <tr>\n",
       "      <th>1</th>\n",
       "      <td>8:21 AM\\n30 Mar 2024</td>\n",
       "      <td>SmartExchange™</td>\n",
       "      <td></td>\n",
       "      <td>¥540</td>\n",
       "      <td>¥20,902</td>\n",
       "    </tr>\n",
       "    <tr>\n",
       "      <th>2</th>\n",
       "      <td>9:08 AM\\n30 Mar 2024</td>\n",
       "      <td>$4.84 SGD to ¥540 JPY\\nFX rate: $1 SGD = ¥111....</td>\n",
       "      <td></td>\n",
       "      <td>¥220</td>\n",
       "      <td>¥21,122</td>\n",
       "    </tr>\n",
       "    <tr>\n",
       "      <th>3</th>\n",
       "      <td>10:06 AM\\n30 Mar 2024</td>\n",
       "      <td>$1.97 SGD to ¥220 JPY\\nFX rate: $1 SGD = ¥111....</td>\n",
       "      <td>¥2,995</td>\n",
       "      <td></td>\n",
       "      <td>¥18,127</td>\n",
       "    </tr>\n",
       "    <tr>\n",
       "      <th>4</th>\n",
       "      <td>10:07 AM\\n31 Mar 2024</td>\n",
       "      <td>SUICA MOBILE PAYMENT\\n,TOUKIYOUTO</td>\n",
       "      <td>¥1,000</td>\n",
       "      <td></td>\n",
       "      <td>¥17,127</td>\n",
       "    </tr>\n",
       "    <tr>\n",
       "      <th>5</th>\n",
       "      <td>2:44 AM\\n31 Mar 2024</td>\n",
       "      <td>SUICA MOBILE PAYMENT\\n,TOUKIYOUTO</td>\n",
       "      <td>¥500</td>\n",
       "      <td></td>\n",
       "      <td>¥16,627</td>\n",
       "    </tr>\n",
       "    <tr>\n",
       "      <th>6</th>\n",
       "      <td>2:44 AM\\n31 Mar 2024</td>\n",
       "      <td>SmartExchange™</td>\n",
       "      <td></td>\n",
       "      <td>¥340</td>\n",
       "      <td>¥16,967</td>\n",
       "    </tr>\n",
       "    <tr>\n",
       "      <th>7</th>\n",
       "      <td>2:56 AM\\n31 Mar 2024</td>\n",
       "      <td>$3.05 SGD to ¥340 JPY\\nFX rate: $1 SGD = ¥111....</td>\n",
       "      <td></td>\n",
       "      <td>¥640</td>\n",
       "      <td>¥17,607</td>\n",
       "    </tr>\n",
       "    <tr>\n",
       "      <th>8</th>\n",
       "      <td>3:08 AM\\n31 Mar 2024</td>\n",
       "      <td>$5.74 SGD to ¥640 JPY\\nFX rate: $1 SGD = ¥111....</td>\n",
       "      <td></td>\n",
       "      <td>¥2,310</td>\n",
       "      <td>¥19,917</td>\n",
       "    </tr>\n",
       "  </tbody>\n",
       "</table>\n",
       "</div>"
      ],
      "text/plain": [
       "                    date                                        description  \\\n",
       "0  (in SGT)\\n30 Mar 2024                    MICHINOEKI ASAGIRI KOG,SHIZUOKA   \n",
       "1   8:21 AM\\n30 Mar 2024                                     SmartExchange™   \n",
       "2   9:08 AM\\n30 Mar 2024  $4.84 SGD to ¥540 JPY\\nFX rate: $1 SGD = ¥111....   \n",
       "3  10:06 AM\\n30 Mar 2024  $1.97 SGD to ¥220 JPY\\nFX rate: $1 SGD = ¥111....   \n",
       "4  10:07 AM\\n31 Mar 2024                  SUICA MOBILE PAYMENT\\n,TOUKIYOUTO   \n",
       "5   2:44 AM\\n31 Mar 2024                  SUICA MOBILE PAYMENT\\n,TOUKIYOUTO   \n",
       "6   2:44 AM\\n31 Mar 2024                                     SmartExchange™   \n",
       "7   2:56 AM\\n31 Mar 2024  $3.05 SGD to ¥340 JPY\\nFX rate: $1 SGD = ¥111....   \n",
       "8   3:08 AM\\n31 Mar 2024  $5.74 SGD to ¥640 JPY\\nFX rate: $1 SGD = ¥111....   \n",
       "\n",
       "  money out money in  balance  \n",
       "0      ¥660           ¥20,362  \n",
       "1               ¥540  ¥20,902  \n",
       "2               ¥220  ¥21,122  \n",
       "3    ¥2,995           ¥18,127  \n",
       "4    ¥1,000           ¥17,127  \n",
       "5      ¥500           ¥16,627  \n",
       "6               ¥340  ¥16,967  \n",
       "7               ¥640  ¥17,607  \n",
       "8             ¥2,310  ¥19,917  "
      ]
     },
     "execution_count": 8,
     "metadata": {},
     "output_type": "execute_result"
    }
   ],
   "source": [
    "df_transactions = pd.DataFrame(all_transactions, columns=['date', 'description', 'money out', 'money in', 'balance'])\n",
    "df_transactions"
   ]
  },
  {
   "cell_type": "markdown",
   "metadata": {},
   "source": [
    "# Clean the data "
   ]
  },
  {
   "cell_type": "code",
   "execution_count": 9,
   "metadata": {},
   "outputs": [
    {
     "data": {
      "text/html": [
       "<div>\n",
       "<style scoped>\n",
       "    .dataframe tbody tr th:only-of-type {\n",
       "        vertical-align: middle;\n",
       "    }\n",
       "\n",
       "    .dataframe tbody tr th {\n",
       "        vertical-align: top;\n",
       "    }\n",
       "\n",
       "    .dataframe thead th {\n",
       "        text-align: right;\n",
       "    }\n",
       "</style>\n",
       "<table border=\"1\" class=\"dataframe\">\n",
       "  <thead>\n",
       "    <tr style=\"text-align: right;\">\n",
       "      <th></th>\n",
       "      <th>date</th>\n",
       "      <th>description</th>\n",
       "      <th>money out</th>\n",
       "      <th>money in</th>\n",
       "      <th>balance</th>\n",
       "    </tr>\n",
       "  </thead>\n",
       "  <tbody>\n",
       "    <tr>\n",
       "      <th>0</th>\n",
       "      <td>30 Mar 2024</td>\n",
       "      <td>MICHINOEKI ASAGIRI KOG,SHIZUOKA</td>\n",
       "      <td>¥660</td>\n",
       "      <td></td>\n",
       "      <td>¥20,362</td>\n",
       "    </tr>\n",
       "    <tr>\n",
       "      <th>1</th>\n",
       "      <td>30 Mar 2024</td>\n",
       "      <td>SmartExchange™</td>\n",
       "      <td></td>\n",
       "      <td>¥540</td>\n",
       "      <td>¥20,902</td>\n",
       "    </tr>\n",
       "    <tr>\n",
       "      <th>2</th>\n",
       "      <td>30 Mar 2024</td>\n",
       "      <td>FX rate: $1 SGD = ¥111.57 JPY</td>\n",
       "      <td></td>\n",
       "      <td>¥220</td>\n",
       "      <td>¥21,122</td>\n",
       "    </tr>\n",
       "    <tr>\n",
       "      <th>3</th>\n",
       "      <td>30 Mar 2024</td>\n",
       "      <td>FX rate: $1 SGD = ¥111.675 JPY</td>\n",
       "      <td>¥2,995</td>\n",
       "      <td></td>\n",
       "      <td>¥18,127</td>\n",
       "    </tr>\n",
       "    <tr>\n",
       "      <th>4</th>\n",
       "      <td>31 Mar 2024</td>\n",
       "      <td>,TOUKIYOUTO</td>\n",
       "      <td>¥1,000</td>\n",
       "      <td></td>\n",
       "      <td>¥17,127</td>\n",
       "    </tr>\n",
       "    <tr>\n",
       "      <th>5</th>\n",
       "      <td>31 Mar 2024</td>\n",
       "      <td>,TOUKIYOUTO</td>\n",
       "      <td>¥500</td>\n",
       "      <td></td>\n",
       "      <td>¥16,627</td>\n",
       "    </tr>\n",
       "    <tr>\n",
       "      <th>6</th>\n",
       "      <td>31 Mar 2024</td>\n",
       "      <td>SmartExchange™</td>\n",
       "      <td></td>\n",
       "      <td>¥340</td>\n",
       "      <td>¥16,967</td>\n",
       "    </tr>\n",
       "    <tr>\n",
       "      <th>7</th>\n",
       "      <td>31 Mar 2024</td>\n",
       "      <td>FX rate: $1 SGD = ¥111.475 JPY</td>\n",
       "      <td></td>\n",
       "      <td>¥640</td>\n",
       "      <td>¥17,607</td>\n",
       "    </tr>\n",
       "    <tr>\n",
       "      <th>8</th>\n",
       "      <td>31 Mar 2024</td>\n",
       "      <td>FX rate: $1 SGD = ¥111.498 JPY</td>\n",
       "      <td></td>\n",
       "      <td>¥2,310</td>\n",
       "      <td>¥19,917</td>\n",
       "    </tr>\n",
       "  </tbody>\n",
       "</table>\n",
       "</div>"
      ],
      "text/plain": [
       "          date                      description money out money in  balance\n",
       "0  30 Mar 2024  MICHINOEKI ASAGIRI KOG,SHIZUOKA      ¥660           ¥20,362\n",
       "1  30 Mar 2024                   SmartExchange™               ¥540  ¥20,902\n",
       "2  30 Mar 2024    FX rate: $1 SGD = ¥111.57 JPY               ¥220  ¥21,122\n",
       "3  30 Mar 2024   FX rate: $1 SGD = ¥111.675 JPY    ¥2,995           ¥18,127\n",
       "4  31 Mar 2024                      ,TOUKIYOUTO    ¥1,000           ¥17,127\n",
       "5  31 Mar 2024                      ,TOUKIYOUTO      ¥500           ¥16,627\n",
       "6  31 Mar 2024                   SmartExchange™               ¥340  ¥16,967\n",
       "7  31 Mar 2024   FX rate: $1 SGD = ¥111.475 JPY               ¥640  ¥17,607\n",
       "8  31 Mar 2024   FX rate: $1 SGD = ¥111.498 JPY             ¥2,310  ¥19,917"
      ]
     },
     "execution_count": 9,
     "metadata": {},
     "output_type": "execute_result"
    }
   ],
   "source": [
    "# Apply a custom function to split the string only if it contains '\\n'\n",
    "def split_string(cell):\n",
    "    if '\\n' in cell:\n",
    "        return cell.split('\\n')[1]\n",
    "    else:\n",
    "        return cell\n",
    "\n",
    "\n",
    "df_transactions['date'] = df_transactions['date'].apply(split_string)\n",
    "df_transactions['description'] = df_transactions['description'].apply(split_string)\n",
    "df_transactions['money out'] = df_transactions['money out'].apply(split_string)\n",
    "df_transactions['money in'] = df_transactions['money in'].apply(split_string)\n",
    "df_transactions['balance'] = df_transactions['balance'].apply(split_string)\n",
    "\n",
    "df_transactions"
   ]
  },
  {
   "cell_type": "markdown",
   "metadata": {},
   "source": [
    "# Export as CSV"
   ]
  },
  {
   "cell_type": "code",
   "execution_count": null,
   "metadata": {},
   "outputs": [],
   "source": [
    "df_transactions.to_csv('youtrip_jpy_txn_1.csv', index=False)\n",
    "print(\"CSV file has been exported successfully.\")"
   ]
  }
 ],
 "metadata": {
  "kernelspec": {
   "display_name": "bosstatements",
   "language": "python",
   "name": "python3"
  },
  "language_info": {
   "codemirror_mode": {
    "name": "ipython",
    "version": 3
   },
   "file_extension": ".py",
   "mimetype": "text/x-python",
   "name": "python",
   "nbconvert_exporter": "python",
   "pygments_lexer": "ipython3",
   "version": "3.12.2"
  }
 },
 "nbformat": 4,
 "nbformat_minor": 2
}
