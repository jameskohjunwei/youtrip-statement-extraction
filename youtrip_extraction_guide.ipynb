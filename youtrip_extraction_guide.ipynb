{
 "cells": [
  {
   "cell_type": "code",
   "execution_count": 1,
   "metadata": {},
   "outputs": [],
   "source": [
    "import pandas as pd\n",
    "import requests\n",
    "import pdfplumber\n",
    "import re\n",
    "import numpy as np\n",
    "# import gspread\n",
    "import csv\n",
    "import time\n",
    "from datetime import datetime\n",
    "import warnings\n",
    "warnings.filterwarnings(\"ignore\")\n",
    "import matplotlib.pyplot as plt\n"
   ]
  },
  {
   "cell_type": "markdown",
   "metadata": {},
   "source": [
    "# Import your pdf"
   ]
  },
  {
   "cell_type": "markdown",
   "metadata": {},
   "source": [
    "This is my own path, you'd need to specifiy your personal path"
   ]
  },
  {
   "cell_type": "code",
   "execution_count": 2,
   "metadata": {},
   "outputs": [],
   "source": [
    "### windows version\n",
    "# pdf = pdfplumber.open(r\"C:\\Users\\james\\Dropbox\\bosStatementExtraction_ghp\\jpy_statement1.pdf\")\n",
    "\n",
    "### mac version\n",
    "pdf = pdfplumber.open(\"/Users/james.koh/Dropbox/current projects/youtrip statement extraction/jpy_statement2.pdf\")\n",
    "page = pdf.pages[1]"
   ]
  },
  {
   "cell_type": "markdown",
   "metadata": {},
   "source": [
    "# Find the raw bottom coordinates for fields of interest and hard code them as explicit\n",
    "##### Since the \"auto\" detection of the horizontal rows are delinated by purple backgrounds that are inconsistent, we need to manually find bottom coordinates of each row to plot lines explicitly"
   ]
  },
  {
   "cell_type": "code",
   "execution_count": 3,
   "metadata": {},
   "outputs": [],
   "source": [
    "### your regex\n",
    "end_of_row = [page.search(r'¥\\d{1,3}(?:,\\d{3})*')]\n",
    "first_line_after_header = [page.search(r'\\bBalance\\b')]\n",
    "# end_of_row_2 = [page.search(r'$|\\d')]\n",
    "\n",
    "### (optional) crop the page using the top and bottom coordinates\n",
    "# cropped_page = page.crop((451.59, 306.83000000000004, 482.15999999999997, 316.83000000000004))\n",
    "# im = cropped_page.to_image()\n",
    "# im"
   ]
  },
  {
   "cell_type": "markdown",
   "metadata": {},
   "source": [
    "# Page-by-page debugging"
   ]
  },
  {
   "cell_type": "code",
   "execution_count": 4,
   "metadata": {},
   "outputs": [
    {
     "data": {
      "image/png": "[encoded data removed]",
      "text/plain": [
       "<pdfplumber.display.PageImage at 0x11e9ac800>"
      ]
     },
     "execution_count": 4,
     "metadata": {},
     "output_type": "execute_result"
    }
   ],
   "source": [
    "### quick override of the above declaration of \"page\" for ez debugging\n",
    "### this sample only extracts one page at a time. You may choose to put this block in a loop to extract multiple pages.\n",
    "page = pdf.pages[0]\n",
    "\n",
    "row_bottom_coordinates_list = []\n",
    "\n",
    "### we use the final jpy value at the end of each row of the \"balance\" column as some type of explicit delineation for horizonal line\n",
    "end_of_row = [page.search(r'¥\\d{1,3}(?:,\\d{3})*')]\n",
    "\n",
    "for i in range(50):\n",
    "    \n",
    "    try:\n",
    "        # fix the issue of regex picking up values from \"smartexchange\" transactions and creating unneccesary lines\n",
    "        # this 556.96 is the end of right hand column\n",
    "        if end_of_row[0][i]['x1'] == 556.96 or 556.9599999999999:\n",
    "            # print(end_of_row_1[0][i]['text']) # for testing\n",
    "            row_bottom_coordinates = end_of_row[0][i]['bottom']\n",
    "            row_bottom_coordinates_list.append(row_bottom_coordinates)\n",
    "\n",
    "    except IndexError:\n",
    "        \n",
    "        break\n",
    "\n",
    "### remove duplicated fields due to same regex identified values occuring more than once in a \"row\"\n",
    "row_bottom_coordinates_list = list(dict.fromkeys(row_bottom_coordinates_list))\n",
    "\n",
    "### insert a horizontal line after the header, specifically after the word \"Balance\"\n",
    "row_bottom_coordinates_list.insert(0,first_line_after_header[0][0]['bottom'])\n",
    "\n",
    "im = page.to_image()\n",
    "\n",
    "im.reset().debug_tablefinder({\n",
    "    \"vertical_strategy\": \"explicit\", \n",
    "    \"horizontal_strategy\": \"explicit\",\n",
    "    \"explicit_horizontal_lines\": row_bottom_coordinates_list,\n",
    "    \"explicit_vertical_lines\": [ 30, 140, 330, 410, 485,560],\n",
    "})"
   ]
  },
  {
   "cell_type": "markdown",
   "metadata": {},
   "source": [
    "As you can see from the above, it's not a perfect solution. Some transaction descriptions are cut off halfway due to the statement's inconsistent spacing. Nevertheless, the key details - such as the date, balance, money in, money out and little bits of the description are still good enough."
   ]
  },
  {
   "cell_type": "code",
   "execution_count": 5,
   "metadata": {},
   "outputs": [],
   "source": [
    "all_transactions = []\n",
    "\n",
    "page_transactions = page.extract_table({\n",
    "    \"vertical_strategy\": \"explicit\", \n",
    "    \"horizontal_strategy\": \"explicit\",\n",
    "    \"explicit_horizontal_lines\": row_bottom_coordinates_list,\n",
    "    \"explicit_vertical_lines\": [ 30, 140, 330, 410, 485,560],\n",
    "})\n",
    "\n",
    "for row in page_transactions:\n",
    "    all_transactions.append(row)"
   ]
  },
  {
   "cell_type": "markdown",
   "metadata": {},
   "source": [
    "# Fit the data into a dataframe"
   ]
  },
  {
   "cell_type": "code",
   "execution_count": 6,
   "metadata": {},
   "outputs": [
    {
     "data": {
      "text/html": [
       "<div>\n",
       "<style scoped>\n",
       "    .dataframe tbody tr th:only-of-type {\n",
       "        vertical-align: middle;\n",
       "    }\n",
       "\n",
       "    .dataframe tbody tr th {\n",
       "        vertical-align: top;\n",
       "    }\n",
       "\n",
       "    .dataframe thead th {\n",
       "        text-align: right;\n",
       "    }\n",
       "</style>\n",
       "<table border=\"1\" class=\"dataframe\">\n",
       "  <thead>\n",
       "    <tr style=\"text-align: right;\">\n",
       "      <th></th>\n",
       "      <th>date</th>\n",
       "      <th>description</th>\n",
       "      <th>money out</th>\n",
       "      <th>money in</th>\n",
       "      <th>balance</th>\n",
       "    </tr>\n",
       "  </thead>\n",
       "  <tbody>\n",
       "    <tr>\n",
       "      <th>0</th>\n",
       "      <td>(in SGT)\\n1 Apr 2024</td>\n",
       "      <td>Opening Balance</td>\n",
       "      <td></td>\n",
       "      <td></td>\n",
       "      <td>¥26,586</td>\n",
       "    </tr>\n",
       "    <tr>\n",
       "      <th>1</th>\n",
       "      <td>1 Apr 2024</td>\n",
       "      <td>SUICA MOBILE PAYMENT\\n,TOUKIYOUTO</td>\n",
       "      <td>¥1,000</td>\n",
       "      <td></td>\n",
       "      <td>¥25,586</td>\n",
       "    </tr>\n",
       "    <tr>\n",
       "      <th>2</th>\n",
       "      <td>2:34 AM\\n1 Apr 2024</td>\n",
       "      <td>SUICA MOBILE PAYMENT\\n,TOUKIYOUTO</td>\n",
       "      <td>¥1,000</td>\n",
       "      <td></td>\n",
       "      <td>¥24,586</td>\n",
       "    </tr>\n",
       "    <tr>\n",
       "      <th>3</th>\n",
       "      <td>2:34 AM\\n1 Apr 2024</td>\n",
       "      <td>SmartExchange™</td>\n",
       "      <td></td>\n",
       "      <td>¥700</td>\n",
       "      <td>¥25,286</td>\n",
       "    </tr>\n",
       "    <tr>\n",
       "      <th>4</th>\n",
       "      <td>3:06 AM\\n1 Apr 2024</td>\n",
       "      <td>$6.24 SGD to ¥700 JPY\\nFX rate: $1 SGD = ¥112....</td>\n",
       "      <td></td>\n",
       "      <td>¥800</td>\n",
       "      <td>¥26,086</td>\n",
       "    </tr>\n",
       "    <tr>\n",
       "      <th>5</th>\n",
       "      <td>3:20 AM\\n1 Apr 2024</td>\n",
       "      <td>$7.13 SGD to ¥800 JPY\\nFX rate: $1 SGD = ¥112....</td>\n",
       "      <td></td>\n",
       "      <td>¥5,500</td>\n",
       "      <td>¥31,586</td>\n",
       "    </tr>\n",
       "    <tr>\n",
       "      <th>6</th>\n",
       "      <td>3:59 AM\\n1 Apr 2024</td>\n",
       "      <td>$49.00 SGD to ¥5,500 JPY\\nFX rate: $1 SGD = ¥1...</td>\n",
       "      <td></td>\n",
       "      <td>¥1,000</td>\n",
       "      <td>¥32,586</td>\n",
       "    </tr>\n",
       "    <tr>\n",
       "      <th>7</th>\n",
       "      <td>7:02 AM\\n1 Apr 2024</td>\n",
       "      <td>$8.91 SGD to ¥1,000 JPY\\nFX rate: $1 SGD = ¥11...</td>\n",
       "      <td>¥800</td>\n",
       "      <td></td>\n",
       "      <td>¥31,786</td>\n",
       "    </tr>\n",
       "    <tr>\n",
       "      <th>8</th>\n",
       "      <td>8:04 AM\\n1 Apr 2024</td>\n",
       "      <td>SmartExchange™</td>\n",
       "      <td></td>\n",
       "      <td>¥3,960</td>\n",
       "      <td>¥35,746</td>\n",
       "    </tr>\n",
       "  </tbody>\n",
       "</table>\n",
       "</div>"
      ],
      "text/plain": [
       "                   date                                        description  \\\n",
       "0  (in SGT)\\n1 Apr 2024                                    Opening Balance   \n",
       "1            1 Apr 2024                  SUICA MOBILE PAYMENT\\n,TOUKIYOUTO   \n",
       "2   2:34 AM\\n1 Apr 2024                  SUICA MOBILE PAYMENT\\n,TOUKIYOUTO   \n",
       "3   2:34 AM\\n1 Apr 2024                                     SmartExchange™   \n",
       "4   3:06 AM\\n1 Apr 2024  $6.24 SGD to ¥700 JPY\\nFX rate: $1 SGD = ¥112....   \n",
       "5   3:20 AM\\n1 Apr 2024  $7.13 SGD to ¥800 JPY\\nFX rate: $1 SGD = ¥112....   \n",
       "6   3:59 AM\\n1 Apr 2024  $49.00 SGD to ¥5,500 JPY\\nFX rate: $1 SGD = ¥1...   \n",
       "7   7:02 AM\\n1 Apr 2024  $8.91 SGD to ¥1,000 JPY\\nFX rate: $1 SGD = ¥11...   \n",
       "8   8:04 AM\\n1 Apr 2024                                     SmartExchange™   \n",
       "\n",
       "  money out money in  balance  \n",
       "0                     ¥26,586  \n",
       "1    ¥1,000           ¥25,586  \n",
       "2    ¥1,000           ¥24,586  \n",
       "3               ¥700  ¥25,286  \n",
       "4               ¥800  ¥26,086  \n",
       "5             ¥5,500  ¥31,586  \n",
       "6             ¥1,000  ¥32,586  \n",
       "7      ¥800           ¥31,786  \n",
       "8             ¥3,960  ¥35,746  "
      ]
     },
     "execution_count": 6,
     "metadata": {},
     "output_type": "execute_result"
    }
   ],
   "source": [
    "df_transactions = pd.DataFrame(all_transactions, columns=['date', 'description', 'money out', 'money in', 'balance'])\n",
    "df_transactions"
   ]
  },
  {
   "cell_type": "markdown",
   "metadata": {},
   "source": [
    "# Clean the data "
   ]
  },
  {
   "cell_type": "code",
   "execution_count": 7,
   "metadata": {},
   "outputs": [
    {
     "data": {
      "text/html": [
       "<div>\n",
       "<style scoped>\n",
       "    .dataframe tbody tr th:only-of-type {\n",
       "        vertical-align: middle;\n",
       "    }\n",
       "\n",
       "    .dataframe tbody tr th {\n",
       "        vertical-align: top;\n",
       "    }\n",
       "\n",
       "    .dataframe thead th {\n",
       "        text-align: right;\n",
       "    }\n",
       "</style>\n",
       "<table border=\"1\" class=\"dataframe\">\n",
       "  <thead>\n",
       "    <tr style=\"text-align: right;\">\n",
       "      <th></th>\n",
       "      <th>date</th>\n",
       "      <th>description</th>\n",
       "      <th>money out</th>\n",
       "      <th>money in</th>\n",
       "      <th>balance</th>\n",
       "    </tr>\n",
       "  </thead>\n",
       "  <tbody>\n",
       "    <tr>\n",
       "      <th>0</th>\n",
       "      <td>1 Apr 2024</td>\n",
       "      <td>Opening Balance</td>\n",
       "      <td></td>\n",
       "      <td></td>\n",
       "      <td>¥26,586</td>\n",
       "    </tr>\n",
       "    <tr>\n",
       "      <th>1</th>\n",
       "      <td>1 Apr 2024</td>\n",
       "      <td>,TOUKIYOUTO</td>\n",
       "      <td>¥1,000</td>\n",
       "      <td></td>\n",
       "      <td>¥25,586</td>\n",
       "    </tr>\n",
       "    <tr>\n",
       "      <th>2</th>\n",
       "      <td>1 Apr 2024</td>\n",
       "      <td>,TOUKIYOUTO</td>\n",
       "      <td>¥1,000</td>\n",
       "      <td></td>\n",
       "      <td>¥24,586</td>\n",
       "    </tr>\n",
       "    <tr>\n",
       "      <th>3</th>\n",
       "      <td>1 Apr 2024</td>\n",
       "      <td>SmartExchange™</td>\n",
       "      <td></td>\n",
       "      <td>¥700</td>\n",
       "      <td>¥25,286</td>\n",
       "    </tr>\n",
       "    <tr>\n",
       "      <th>4</th>\n",
       "      <td>1 Apr 2024</td>\n",
       "      <td>FX rate: $1 SGD = ¥112.179 JPY</td>\n",
       "      <td></td>\n",
       "      <td>¥800</td>\n",
       "      <td>¥26,086</td>\n",
       "    </tr>\n",
       "    <tr>\n",
       "      <th>5</th>\n",
       "      <td>1 Apr 2024</td>\n",
       "      <td>FX rate: $1 SGD = ¥112.202 JPY</td>\n",
       "      <td></td>\n",
       "      <td>¥5,500</td>\n",
       "      <td>¥31,586</td>\n",
       "    </tr>\n",
       "    <tr>\n",
       "      <th>6</th>\n",
       "      <td>1 Apr 2024</td>\n",
       "      <td>FX rate: $1 SGD = ¥112.245 JPY</td>\n",
       "      <td></td>\n",
       "      <td>¥1,000</td>\n",
       "      <td>¥32,586</td>\n",
       "    </tr>\n",
       "    <tr>\n",
       "      <th>7</th>\n",
       "      <td>1 Apr 2024</td>\n",
       "      <td>FX rate: $1 SGD = ¥112.233 JPY</td>\n",
       "      <td>¥800</td>\n",
       "      <td></td>\n",
       "      <td>¥31,786</td>\n",
       "    </tr>\n",
       "    <tr>\n",
       "      <th>8</th>\n",
       "      <td>1 Apr 2024</td>\n",
       "      <td>SmartExchange™</td>\n",
       "      <td></td>\n",
       "      <td>¥3,960</td>\n",
       "      <td>¥35,746</td>\n",
       "    </tr>\n",
       "  </tbody>\n",
       "</table>\n",
       "</div>"
      ],
      "text/plain": [
       "         date                     description money out money in  balance\n",
       "0  1 Apr 2024                 Opening Balance                     ¥26,586\n",
       "1  1 Apr 2024                     ,TOUKIYOUTO    ¥1,000           ¥25,586\n",
       "2  1 Apr 2024                     ,TOUKIYOUTO    ¥1,000           ¥24,586\n",
       "3  1 Apr 2024                  SmartExchange™               ¥700  ¥25,286\n",
       "4  1 Apr 2024  FX rate: $1 SGD = ¥112.179 JPY               ¥800  ¥26,086\n",
       "5  1 Apr 2024  FX rate: $1 SGD = ¥112.202 JPY             ¥5,500  ¥31,586\n",
       "6  1 Apr 2024  FX rate: $1 SGD = ¥112.245 JPY             ¥1,000  ¥32,586\n",
       "7  1 Apr 2024  FX rate: $1 SGD = ¥112.233 JPY      ¥800           ¥31,786\n",
       "8  1 Apr 2024                  SmartExchange™             ¥3,960  ¥35,746"
      ]
     },
     "execution_count": 7,
     "metadata": {},
     "output_type": "execute_result"
    }
   ],
   "source": [
    "# Apply a custom function to split the string only if it contains '\\n'\n",
    "def split_string(cell):\n",
    "    if '\\n' in cell:\n",
    "        return cell.split('\\n')[1]\n",
    "    else:\n",
    "        return cell\n",
    "\n",
    "\n",
    "df_transactions['date'] = df_transactions['date'].apply(split_string)\n",
    "df_transactions['description'] = df_transactions['description'].apply(split_string)\n",
    "df_transactions['money out'] = df_transactions['money out'].apply(split_string)\n",
    "df_transactions['money in'] = df_transactions['money in'].apply(split_string)\n",
    "df_transactions['balance'] = df_transactions['balance'].apply(split_string)\n",
    "\n",
    "df_transactions"
   ]
  },
  {
   "cell_type": "markdown",
   "metadata": {},
   "source": [
    "# Export as CSV"
   ]
  },
  {
   "cell_type": "code",
   "execution_count": 8,
   "metadata": {},
   "outputs": [
    {
     "name": "stdout",
     "output_type": "stream",
     "text": [
      "CSV file has been exported successfully.\n"
     ]
    }
   ],
   "source": [
    "df_transactions.to_csv('youtrip_jpy_txn_2.csv', index=False)\n",
    "print(\"CSV file has been exported successfully.\")"
   ]
  }
 ],
 "metadata": {
  "kernelspec": {
   "display_name": "bosstatements",
   "language": "python",
   "name": "python3"
  },
  "language_info": {
   "codemirror_mode": {
    "name": "ipython",
    "version": 3
   },
   "file_extension": ".py",
   "mimetype": "text/x-python",
   "name": "python",
   "nbconvert_exporter": "python",
   "pygments_lexer": "ipython3",
   "version": "3.12.2"
  }
 },
 "nbformat": 4,
 "nbformat_minor": 2
}
